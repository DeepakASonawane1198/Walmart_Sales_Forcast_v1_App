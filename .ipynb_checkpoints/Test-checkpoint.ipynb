{
 "cells": [
  {
   "cell_type": "code",
   "execution_count": 1,
   "metadata": {},
   "outputs": [],
   "source": [
    "# Importing Libraries\n",
    "import numpy as np \n",
    "import pandas as pd\n",
    "import seaborn as sns\n",
    "import matplotlib.pyplot as plt\n",
    "import plotly.express as px\n",
    "from datetime import datetime\n",
    "import pickle\n",
    "import joblib\n",
    "\n",
    "# Importing Algorithms\n",
    "from sklearn.linear_model import LinearRegression,Lasso,Ridge\n",
    "from sklearn.ensemble import RandomForestRegressor\n",
    "from sklearn.model_selection import train_test_split\n",
    "from sklearn.preprocessing import MinMaxScaler,LabelEncoder,OneHotEncoder,StandardScaler,RobustScaler\n",
    "from sklearn.compose import ColumnTransformer\n",
    "from sklearn.pipeline import Pipeline\n",
    "\n",
    "# Importing Evaluation Metrics\n",
    "from sklearn.metrics import r2_score,mean_absolute_error,mean_squared_error"
   ]
  },
  {
   "cell_type": "code",
   "execution_count": 2,
   "metadata": {},
   "outputs": [
    {
     "name": "stdout",
     "output_type": "stream",
     "text": [
      "Enter the store number : 1\n",
      "Enter the date : 2010-02-05\n",
      "Enter the weekly sales : 1643690.90\n",
      "Enter the temperature : 42.31\n",
      "Enter the fuel price : 2.572\n",
      "Enter the cpi : 211.096358\n",
      "Enter the unemployment : 8.106\n",
      "Enter is holiday : False\n",
      "Enter is type : A\n",
      "Enter the size : 151315\n"
     ]
    }
   ],
   "source": [
    "store=eval(input('Enter the store number : '))\n",
    "date=input('Enter the date : ')\n",
    "weekly_sales=eval(input('Enter the weekly sales : '))\n",
    "temp=eval(input('Enter the temperature : '))\n",
    "fuel_price=eval(input('Enter the fuel price : '))\n",
    "cpi=eval(input('Enter the cpi : '))\n",
    "unemployment=eval(input('Enter the unemployment : '))\n",
    "isholiday=bool(input('Enter is holiday : '))\n",
    "type=input('Enter is type : ')\n",
    "size=eval(input('Enter the size : '))\n",
    "\n",
    "new_date=datetime.strptime(date,'%Y-%m-%d')\n",
    "\n"
   ]
  },
  {
   "cell_type": "code",
   "execution_count": 19,
   "metadata": {},
   "outputs": [
    {
     "data": {
      "text/plain": [
       "[1,\n",
       " datetime.datetime(2010, 2, 5, 0, 0),\n",
       " 1643690.9,\n",
       " 42.31,\n",
       " 2.572,\n",
       " 211.096358,\n",
       " 8.106,\n",
       " True,\n",
       " 'A',\n",
       " 151315]"
      ]
     },
     "execution_count": 19,
     "metadata": {},
     "output_type": "execute_result"
    }
   ],
   "source": [
    "lis=[store,new_date,weekly_sales,temp,fuel_price,cpi,unemployment,isholiday,type,size]\n",
    "lis"
   ]
  },
  {
   "cell_type": "code",
   "execution_count": 7,
   "metadata": {},
   "outputs": [
    {
     "data": {
      "text/plain": [
       "{'Store': 1,\n",
       " 'Date': datetime.datetime(2010, 2, 5, 0, 0),\n",
       " 'Weekly_Sales': 1643690.9,\n",
       " 'Temperature': 42.31,\n",
       " 'Fuel_Price': 2.572,\n",
       " 'CPI': 211.096358,\n",
       " 'Unemployment': 8.106,\n",
       " 'IsHoliday': True,\n",
       " 'Type': 'A',\n",
       " 'Size': 151315}"
      ]
     },
     "execution_count": 7,
     "metadata": {},
     "output_type": "execute_result"
    }
   ],
   "source": [
    "dic={'Store':store,'Date':new_date,'Weekly_Sales':weekly_sales,'Temperature':temp,'Fuel_Price':fuel_price,'CPI':cpi,'Unemployment':unemployment,'IsHoliday':isholiday,'Type':type,'Size':size}\n",
    "dic"
   ]
  },
  {
   "cell_type": "code",
   "execution_count": 3,
   "metadata": {},
   "outputs": [
    {
     "ename": "AttributeError",
     "evalue": "'int' object has no attribute 'type'",
     "output_type": "error",
     "traceback": [
      "\u001b[1;31m---------------------------------------------------------------------------\u001b[0m",
      "\u001b[1;31mAttributeError\u001b[0m                            Traceback (most recent call last)",
      "Input \u001b[1;32mIn [3]\u001b[0m, in \u001b[0;36m<cell line: 2>\u001b[1;34m()\u001b[0m\n\u001b[0;32m      1\u001b[0m x\u001b[38;5;241m=\u001b[39m\u001b[38;5;241m5\u001b[39m\n\u001b[1;32m----> 2\u001b[0m \u001b[43mx\u001b[49m\u001b[38;5;241;43m.\u001b[39;49m\u001b[43mtype\u001b[49m()\n",
      "\u001b[1;31mAttributeError\u001b[0m: 'int' object has no attribute 'type'"
     ]
    }
   ],
   "source": [
    "x=5\n"
   ]
  },
  {
   "cell_type": "code",
   "execution_count": null,
   "metadata": {},
   "outputs": [],
   "source": []
  }
 ],
 "metadata": {
  "kernelspec": {
   "display_name": "Python 3 (ipykernel)",
   "language": "python",
   "name": "python3"
  },
  "language_info": {
   "codemirror_mode": {
    "name": "ipython",
    "version": 3
   },
   "file_extension": ".py",
   "mimetype": "text/x-python",
   "name": "python",
   "nbconvert_exporter": "python",
   "pygments_lexer": "ipython3",
   "version": "3.9.12"
  },
  "vscode": {
   "interpreter": {
    "hash": "5959e9990bab78deb0e0e5547841d8ce5b559d269a7d38e37a0e183dc2b33095"
   }
  }
 },
 "nbformat": 4,
 "nbformat_minor": 2
}
